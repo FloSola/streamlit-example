{
 "cells": [
  {
   "cell_type": "code",
   "execution_count": null,
   "id": "f94d2b0c-fb85-45b6-9887-8a866c691c34",
   "metadata": {},
   "outputs": [],
   "source": [
    "pip uninstall pycaret"
   ]
  }
 ],
 "metadata": {
  "kernelspec": {
   "display_name": "Python 3 (ipykernel)",
   "language": "python",
   "name": "python3"
  },
  "language_info": {
   "codemirror_mode": {
    "name": "ipython",
    "version": 3
   },
   "file_extension": ".py",
   "mimetype": "text/x-python",
   "name": "python",
   "nbconvert_exporter": "python",
   "pygments_lexer": "ipython3",
   "version": "3.10.9"
  }
 },
 "nbformat": 4,
 "nbformat_minor": 5
}
