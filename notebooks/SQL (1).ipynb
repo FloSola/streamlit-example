{
 "cells": [
  {
   "cell_type": "code",
   "execution_count": null,
   "id": "d4853fa3",
   "metadata": {},
   "outputs": [],
   "source": [
    "%load_ext sql\n",
    "%config SqlMagic.displaycon = False\n",
    "%config SqlMagic.feedback = False\n",
    "%config SqlMagic.displaylimit = 50"
   ]
  },
  {
   "cell_type": "code",
   "execution_count": null,
   "id": "cf1fa2b8",
   "metadata": {},
   "outputs": [],
   "source": [
    "%sql sqlite:///Distributeur.db"
   ]
  },
  {
   "cell_type": "code",
   "execution_count": null,
   "id": "b980132e",
   "metadata": {},
   "outputs": [],
   "source": [
    "%%sql\n",
    "CREATE TABLE Boissons (\n",
    "    BoissonId INTEGER NOT NULL, \n",
    "    Nom VARCHAR,\n",
    "    Contenance INTEGER,\n",
    "    Prix DOUBLE,\n",
    "    PRIMARY KEY (BoissonId));\n",
    "\n",
    "#BoissonId INTEGER NOT NULL : identifiant et clé primaire\n",
    "#Nom VARCHAR : chaine de caractère \n",
    "#Contenance INTEGER : Valeure numérique ne nécéssitant pas de décimales\n",
    "#Prix DOUBLE : prix pouvant avoir des décimales"
   ]
  },
  {
   "cell_type": "code",
   "execution_count": null,
   "id": "1dd0f6d0",
   "metadata": {},
   "outputs": [],
   "source": [
    "%%sql\n",
    "\n",
    "INSERT INTO Boissons \n",
    "VALUES \n",
    "    (1, \"Coca\", 33, 0.99), \n",
    "    (2, \"Perrier\", 100, 2),\n",
    "    (3, \"Perrier\", 33, 1),\n",
    "    (4, \"Vittel\", 150, 1.50),\n",
    "    (5, \"Badoit\", 50, 2);\n"
   ]
  },
  {
   "cell_type": "code",
   "execution_count": null,
   "id": "16ae364e",
   "metadata": {},
   "outputs": [],
   "source": [
    "\n",
    "%%sql\n",
    "\n",
    "CREATE TABLE Factures (\n",
    "    FactureId INTEGER NOT NULL, \n",
    "    BoissId,\n",
    "    Heure,\n",
    "    PRIMARY KEY (FactureId)\n",
    "    FOREIGN KEY (BoissId) REFERENCES Boissons (BoissonId));"
   ]
  },
  {
   "cell_type": "code",
   "execution_count": null,
   "id": "9bf24153",
   "metadata": {},
   "outputs": [],
   "source": [
    "%%sql\n",
    "\n",
    "INSERT INTO Factures \n",
    "VALUES \n",
    "    (1,1,7), \n",
    "    (2,1,8),\n",
    "    (3,4,12);"
   ]
  },
  {
   "cell_type": "code",
   "execution_count": null,
   "id": "5d92ae6a",
   "metadata": {},
   "outputs": [],
   "source": [
    "\"\"\"\n",
    "pour supprimer la table Boissons, il faut dans un premier temps supprimer la table Factures car celle ci dépend de la table Boissons. \n",
    "une fois supprimée, il est possible de supprimer la table Boissons.\n",
    "\"\"\""
   ]
  },
  {
   "cell_type": "code",
   "execution_count": null,
   "id": "d81cdaec",
   "metadata": {},
   "outputs": [],
   "source": [
    "\"\"\"\n",
    "Oui, il est possible d'ajouter le tuple (1, Sprite, 50, 1) car il correspond au format de la table Boissons.\n",
    "\"\"\""
   ]
  },
  {
   "cell_type": "code",
   "execution_count": null,
   "id": "67cf3611",
   "metadata": {},
   "outputs": [],
   "source": [
    "%%sql\n",
    "\n",
    "SELECT Boissons.Nom, Factures.FactureId\n",
    "FROM Factures RIGHT JOIN Boissons ON Factures.BoissId = Boissons.BoissonId\n",
    "WHERE Boissons.BoissonId NOT IN (Factures.BoissId );"
   ]
  },
  {
   "cell_type": "code",
   "execution_count": null,
   "id": "f9ed07ea",
   "metadata": {},
   "outputs": [],
   "source": [
    "%%sql\n",
    "\n",
    "SELECT BoissId, COUNT(BoissId)\n",
    "FROM Factures \n",
    "GROUP BY BoissId;"
   ]
  },
  {
   "cell_type": "code",
   "execution_count": null,
   "id": "43cff4c7",
   "metadata": {},
   "outputs": [],
   "source": [
    "%%sql\n",
    "\n",
    "DROP TABLE IF EXISTS Boissons\n",
    "DROP TABLE IF EXISTS Factures;"
   ]
  },
  {
   "cell_type": "markdown",
   "id": "048afd39",
   "metadata": {},
   "source": [
    "### exercice 2"
   ]
  },
  {
   "cell_type": "code",
   "execution_count": null,
   "id": "9300d7f0",
   "metadata": {},
   "outputs": [],
   "source": [
    "%%sql\n",
    "\n",
    "SELECT \n",
    "    name,sql\n",
    "FROM \n",
    "    sqlite_schema\n",
    "WHERE \n",
    "    type ='table' AND \n",
    "    name NOT LIKE 'sqlite_%';"
   ]
  },
  {
   "cell_type": "code",
   "execution_count": null,
   "id": "6ecf516c",
   "metadata": {},
   "outputs": [],
   "source": [
    "%%sql\n",
    "\n",
    "SELECT type, COUNT(title_Id)\n",
    "FROM titles \n",
    "GROUP BY type;"
   ]
  },
  {
   "cell_type": "code",
   "execution_count": null,
   "id": "5dc7d25d",
   "metadata": {},
   "outputs": [],
   "source": [
    "%%sql\n",
    "\n",
    "SELECT titles.primary_title, ratings.rating, ratings.votes \n",
    "FROM titles\n",
    "INNER JOIN ratings ON ratings.title_id = titles.title_Id\n",
    "WHERE ratings.votes >5000\n",
    "ORDER BY ratings.rating DESC LIMIT 10;"
   ]
  },
  {
   "cell_type": "code",
   "execution_count": null,
   "id": "69e34fff",
   "metadata": {},
   "outputs": [],
   "source": [
    "%%sql\n",
    "SELECT titles.type, AVG(ratings.rating)\n",
    "FROM titles\n",
    "INNER JOIN ratings ON titles.title_id = ratings.title_Id\n",
    "GROUP BY titles.type;\n"
   ]
  },
  {
   "cell_type": "code",
   "execution_count": null,
   "id": "a2032a03",
   "metadata": {},
   "outputs": [],
   "source": [
    "%%sql\n",
    "\n",
    "SELECT people.name, Avg(ratings.rating)\n",
    "FROM (people INNER JOIN (titles INNER JOIN crew ON titles.title_id = crew.title_id) ON people.Person_id = crew.person_id) INNER JOIN ratings ON titles.title_id = ratings.title_id\n",
    "GROUP BY people.name, crew.job\n",
    "HAVING (((crew.job)=\"director\"))\n",
    "ORDER BY people.name DESC LIMIT 10;"
   ]
  },
  {
   "cell_type": "code",
   "execution_count": null,
   "id": "679fd0ae",
   "metadata": {},
   "outputs": [],
   "source": [
    "%%sql\n",
    "SELECT ratings.rating, people.name, titles.primary_title\n",
    "FROM (people INNER JOIN (titles INNER JOIN crew ON titles.title_id = crew.title_id) ON people.Person_id = crew.person_id) INNER JOIN ratings ON titles.title_id = ratings.title_id\n",
    "GROUP BY ratings.rating, people.name, titles.primary_title\n",
    "HAVING (((people.name)=\"Quentin Tarantino\"))\n",
    "ORDER BY ratings.rating DESC;\n"
   ]
  },
  {
   "cell_type": "code",
   "execution_count": null,
   "id": "fa04b6bf",
   "metadata": {},
   "outputs": [],
   "source": [
    "%%sql\n",
    "\n",
    "SELECT ratings.rating, people.name, crew.category\n",
    "FROM (people INNER JOIN (titles INNER JOIN crew ON titles.title_id = crew.title_id) ON people.Person_id = crew.person_id) INNER JOIN ratings ON titles.title_id = ratings.title_id\n",
    "WHERE (((ratings.votes)>5000) AND ((crew.category)=\"actor\") OR (crew.category)=\"actress\")\n",
    "ORDER BY ratings.rating DESC LIMIT 10;\n",
    "\n"
   ]
  },
  {
   "cell_type": "code",
   "execution_count": null,
   "id": "6436bcb3",
   "metadata": {},
   "outputs": [],
   "source": [
    "%%sql\n",
    "\n",
    "SELECT crew.category, Avg(ratings.rating)\n",
    "FROM (people INNER JOIN (titles INNER JOIN crew ON titles.title_id = crew.title_id) ON people.Person_id = crew.person_id) INNER JOIN ratings ON titles.title_id = ratings.title_id\n",
    "GROUP BY crew.category\n",
    "HAVING (((crew.category)=\"actor\") OR ((crew.category)=\"actress\"));\n"
   ]
  }
 ],
 "metadata": {
  "kernelspec": {
   "display_name": "Python 3 (ipykernel)",
   "language": "python",
   "name": "python3"
  },
  "language_info": {
   "codemirror_mode": {
    "name": "ipython",
    "version": 3
   },
   "file_extension": ".py",
   "mimetype": "text/x-python",
   "name": "python",
   "nbconvert_exporter": "python",
   "pygments_lexer": "ipython3",
   "version": "3.10.9"
  }
 },
 "nbformat": 4,
 "nbformat_minor": 5
}
